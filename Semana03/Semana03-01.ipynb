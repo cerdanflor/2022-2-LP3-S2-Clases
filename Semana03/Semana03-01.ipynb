{
 "cells": [
  {
   "cell_type": "markdown",
   "id": "91b79c49",
   "metadata": {},
   "source": [
    "# SEMANA 03\n",
    "Mg, Flor Elizabeth Cerdán León"
   ]
  },
  {
   "cell_type": "markdown",
   "id": "b8aeedf8",
   "metadata": {},
   "source": [
    "Temas:\n",
    "    1. Números\n",
    "    2. Variables\n",
    "    3. Manejo de Cadenas\n",
    "    4. Ingreso de datos por el teclado\n",
    "    5. Operadores"
   ]
  },
  {
   "cell_type": "markdown",
   "id": "597f8333",
   "metadata": {},
   "source": [
    "1. Números"
   ]
  },
  {
   "cell_type": "code",
   "execution_count": 3,
   "id": "0115e399",
   "metadata": {},
   "outputs": [
    {
     "data": {
      "text/plain": [
       "9"
      ]
     },
     "execution_count": 3,
     "metadata": {},
     "output_type": "execute_result"
    }
   ],
   "source": [
    "4+5\n"
   ]
  },
  {
   "cell_type": "code",
   "execution_count": 4,
   "id": "236e2572",
   "metadata": {},
   "outputs": [
    {
     "data": {
      "text/plain": [
       "40"
      ]
     },
     "execution_count": 4,
     "metadata": {},
     "output_type": "execute_result"
    }
   ],
   "source": [
    "5*8"
   ]
  },
  {
   "cell_type": "code",
   "execution_count": 5,
   "id": "f98a70e5",
   "metadata": {},
   "outputs": [
    {
     "data": {
      "text/plain": [
       "2.3333333333333335"
      ]
     },
     "execution_count": 5,
     "metadata": {},
     "output_type": "execute_result"
    }
   ],
   "source": [
    "7/3"
   ]
  }
 ],
 "metadata": {
  "kernelspec": {
   "display_name": "Python 3 (ipykernel)",
   "language": "python",
   "name": "python3"
  },
  "language_info": {
   "codemirror_mode": {
    "name": "ipython",
    "version": 3
   },
   "file_extension": ".py",
   "mimetype": "text/x-python",
   "name": "python",
   "nbconvert_exporter": "python",
   "pygments_lexer": "ipython3",
   "version": "3.9.7"
  }
 },
 "nbformat": 4,
 "nbformat_minor": 5
}
