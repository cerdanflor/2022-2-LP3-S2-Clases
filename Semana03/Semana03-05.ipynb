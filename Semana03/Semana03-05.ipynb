{
 "cells": [
  {
   "cell_type": "markdown",
   "id": "ea8180b8",
   "metadata": {},
   "source": [
    "# SEMANA 03\n",
    "Mg. Flor Elizabeth Cerdán León"
   ]
  },
  {
   "cell_type": "markdown",
   "id": "5061884a",
   "metadata": {},
   "source": [
    "# Temas:\n",
    "1. Números\n",
    "2. Variables\n",
    "3. Manejo de Cadenas\n",
    "4. Ingreso de datos por el teclado\n",
    "5. Operadores"
   ]
  },
  {
   "cell_type": "markdown",
   "id": "db4a09a4",
   "metadata": {},
   "source": [
    "5. Operadores"
   ]
  },
  {
   "cell_type": "code",
   "execution_count": 1,
   "id": "36737775",
   "metadata": {},
   "outputs": [],
   "source": [
    "# 5.1 Operdores aritméticos\n",
    "# Se tiene: +,-, *, /, **, %, //"
   ]
  },
  {
   "cell_type": "code",
   "execution_count": 8,
   "id": "b7e552cf",
   "metadata": {},
   "outputs": [
    {
     "name": "stdout",
     "output_type": "stream",
     "text": [
      "13\n",
      "7\n",
      "30\n",
      "3.3333333333333335\n",
      "1\n",
      "3\n",
      "1000\n"
     ]
    }
   ],
   "source": [
    "numero1 = 10\n",
    "numero2 = 3\n",
    "suma = numero1 + numero2\n",
    "resta = numero1 - numero2\n",
    "multiplicación = numero1 * numero2\n",
    "división = numero1 / numero2\n",
    "residuo = numero1 % numero2\n",
    "cociente = numero1 // numero2\n",
    "potencia = numero1 ** numero2\n",
    "print(suma)\n",
    "print(resta)\n",
    "print(multiplicación)\n",
    "print(división)\n",
    "print(residuo)\n",
    "print(cociente)\n",
    "print(potencia)"
   ]
  },
  {
   "cell_type": "code",
   "execution_count": 9,
   "id": "1da81b14",
   "metadata": {},
   "outputs": [
    {
     "name": "stdout",
     "output_type": "stream",
     "text": [
      "8\n"
     ]
    }
   ],
   "source": [
    "# OPeradores de Asignación\n",
    "# Se tiene: =, +=, -=, *=, /=, **=\n",
    "numero = 5\n",
    "numero = numero + 3\n",
    "print(numero)"
   ]
  },
  {
   "cell_type": "code",
   "execution_count": 10,
   "id": "cece6b75",
   "metadata": {},
   "outputs": [
    {
     "name": "stdout",
     "output_type": "stream",
     "text": [
      "8\n"
     ]
    }
   ],
   "source": [
    "# La operación anterior también se puede expresar de la siguiente manera:\n",
    "numero = 5\n",
    "numero += 3\n",
    "print(numero)"
   ]
  },
  {
   "cell_type": "code",
   "execution_count": 11,
   "id": "79b8d76b",
   "metadata": {},
   "outputs": [
    {
     "name": "stdout",
     "output_type": "stream",
     "text": [
      "125\n"
     ]
    }
   ],
   "source": [
    "# Lo mismo se puede hacer con todos los casos, incluso la potencia\n",
    "# Veamos otro ejemplo:\n",
    "numero = 5\n",
    "numero = numero ** 3\n",
    "print(numero)"
   ]
  },
  {
   "cell_type": "code",
   "execution_count": 12,
   "id": "1b07a3b2",
   "metadata": {},
   "outputs": [
    {
     "name": "stdout",
     "output_type": "stream",
     "text": [
      "125\n"
     ]
    }
   ],
   "source": [
    "# La operación anterior también se puede expresar de la siguiente manera:\n",
    "numero = 5\n",
    "numero = 5\n",
    "numero **= 3\n",
    "print(numero)\n"
   ]
  },
  {
   "cell_type": "code",
   "execution_count": 13,
   "id": "46fa1e4c",
   "metadata": {},
   "outputs": [],
   "source": [
    "# 5.3 Operadores de comparación\n",
    "# Se tiene: ==, !=, <, >, <=, >=, \n",
    "# Ejemplo de Igualdad"
   ]
  },
  {
   "cell_type": "code",
   "execution_count": 14,
   "id": "5eb6e40b",
   "metadata": {},
   "outputs": [
    {
     "data": {
      "text/plain": [
       "False"
      ]
     },
     "execution_count": 14,
     "metadata": {},
     "output_type": "execute_result"
    }
   ],
   "source": [
    "numero1 = 5\n",
    "numero2 = 2\n",
    "numero1 == numero2"
   ]
  },
  {
   "cell_type": "code",
   "execution_count": 15,
   "id": "d9cd4faf",
   "metadata": {},
   "outputs": [
    {
     "data": {
      "text/plain": [
       "True"
      ]
     },
     "execution_count": 15,
     "metadata": {},
     "output_type": "execute_result"
    }
   ],
   "source": [
    "# Con las cadenas funciona igual\n",
    "nombre1 = \"Juan\"\n",
    "nombre2 = \"Juan\"\n",
    "nombre1 == nombre2"
   ]
  },
  {
   "cell_type": "code",
   "execution_count": 16,
   "id": "ddcdcc42",
   "metadata": {},
   "outputs": [],
   "source": [
    "# 5.4 Operadores lógicos\n",
    "# Se tiene: and, or, not\n",
    "numero1 = 5\n",
    "numero2 = 6\n",
    "numero3 = 7\n",
    "numero4 = 8"
   ]
  },
  {
   "cell_type": "code",
   "execution_count": 17,
   "id": "ff93aa1b",
   "metadata": {},
   "outputs": [
    {
     "data": {
      "text/plain": [
       "True"
      ]
     },
     "execution_count": 17,
     "metadata": {},
     "output_type": "execute_result"
    }
   ],
   "source": [
    "numero1 < numero2"
   ]
  },
  {
   "cell_type": "code",
   "execution_count": 18,
   "id": "bafac272",
   "metadata": {},
   "outputs": [
    {
     "data": {
      "text/plain": [
       "False"
      ]
     },
     "execution_count": 18,
     "metadata": {},
     "output_type": "execute_result"
    }
   ],
   "source": [
    "# El not invierte el resultado\n",
    "not(numero1<numero2)"
   ]
  },
  {
   "cell_type": "code",
   "execution_count": 19,
   "id": "5a48c2a2",
   "metadata": {},
   "outputs": [
    {
     "data": {
      "text/plain": [
       "True"
      ]
     },
     "execution_count": 19,
     "metadata": {},
     "output_type": "execute_result"
    }
   ],
   "source": [
    "numero1<numero2 and numero3<numero4"
   ]
  },
  {
   "cell_type": "code",
   "execution_count": 20,
   "id": "657747fe",
   "metadata": {},
   "outputs": [
    {
     "data": {
      "text/plain": [
       "True"
      ]
     },
     "execution_count": 20,
     "metadata": {},
     "output_type": "execute_result"
    }
   ],
   "source": [
    "# Tambien puedes utilizar parentesis para ordenar tu operación\n",
    "(numero1<numero2 and numero3<numero4) or (numero3>numero4)"
   ]
  },
  {
   "cell_type": "code",
   "execution_count": 21,
   "id": "fc822c9c",
   "metadata": {},
   "outputs": [],
   "source": [
    "# 5.5 Operadores de Pertencia\n",
    "# Se tiene: in, not in"
   ]
  },
  {
   "cell_type": "code",
   "execution_count": 22,
   "id": "bab5ee1a",
   "metadata": {},
   "outputs": [],
   "source": [
    "#Ejemplo:\n",
    "aula = [\"Juan\", \"Daniel\",\"Ruben\"]\n",
    "alumno1 = \"Diego\"\n",
    "alumno2 = \"Juan\""
   ]
  },
  {
   "cell_type": "code",
   "execution_count": 23,
   "id": "9a9453fb",
   "metadata": {},
   "outputs": [
    {
     "data": {
      "text/plain": [
       "False"
      ]
     },
     "execution_count": 23,
     "metadata": {},
     "output_type": "execute_result"
    }
   ],
   "source": [
    "# ¿Diego está en aula?\n",
    "alumno1 in aula"
   ]
  },
  {
   "cell_type": "code",
   "execution_count": 24,
   "id": "e14ada5c",
   "metadata": {},
   "outputs": [
    {
     "data": {
      "text/plain": [
       "True"
      ]
     },
     "execution_count": 24,
     "metadata": {},
     "output_type": "execute_result"
    }
   ],
   "source": [
    "# ¿Juan está en aula?\n",
    "alumno2 in aula"
   ]
  },
  {
   "cell_type": "code",
   "execution_count": 25,
   "id": "b87a0cf8",
   "metadata": {},
   "outputs": [
    {
     "data": {
      "text/plain": [
       "True"
      ]
     },
     "execution_count": 25,
     "metadata": {},
     "output_type": "execute_result"
    }
   ],
   "source": [
    "# ¿Diego no está en aula?\n",
    "alumno1 not in aula"
   ]
  },
  {
   "cell_type": "code",
   "execution_count": 26,
   "id": "bdc8d668",
   "metadata": {},
   "outputs": [
    {
     "data": {
      "text/plain": [
       "False"
      ]
     },
     "execution_count": 26,
     "metadata": {},
     "output_type": "execute_result"
    }
   ],
   "source": [
    "# ¿Juan no está en aula?\n",
    "alumno2 not in aula"
   ]
  },
  {
   "cell_type": "code",
   "execution_count": 27,
   "id": "85e551f9",
   "metadata": {},
   "outputs": [],
   "source": [
    "# 5.6 Operadores de identidad\n",
    "# Se tiene: is, is not\n",
    "\n",
    "aula1 = [\"Juan\", \"Daniel\",\"Ruben\"]\n",
    "aula2 = [\"Juan\", \"Daniel\",\"Ruben\"]\n",
    "# Acontinuación vamos a indicar que aula3 va a compartir el mismo objeto que aula1\n",
    "\n",
    "aula3 = aula1"
   ]
  },
  {
   "cell_type": "code",
   "execution_count": 28,
   "id": "16ab9f32",
   "metadata": {},
   "outputs": [
    {
     "data": {
      "text/plain": [
       "True"
      ]
     },
     "execution_count": 28,
     "metadata": {},
     "output_type": "execute_result"
    }
   ],
   "source": [
    "# ¿aula3 comparte el mismo objeto que aula1 ?\n",
    "aula3 is aula1"
   ]
  },
  {
   "cell_type": "code",
   "execution_count": 29,
   "id": "29d3e87f",
   "metadata": {},
   "outputs": [
    {
     "data": {
      "text/plain": [
       "False"
      ]
     },
     "execution_count": 29,
     "metadata": {},
     "output_type": "execute_result"
    }
   ],
   "source": [
    "# ¿ aula3 comparte el mismo objeto que aula2 ?\n",
    "aula3 is aula2"
   ]
  },
  {
   "cell_type": "code",
   "execution_count": 30,
   "id": "ae8d7740",
   "metadata": {},
   "outputs": [
    {
     "data": {
      "text/plain": [
       "False"
      ]
     },
     "execution_count": 30,
     "metadata": {},
     "output_type": "execute_result"
    }
   ],
   "source": [
    "# ¿ aula2 comparte el mismo objeto que aula1 ?\n",
    "aula2 is aula1"
   ]
  },
  {
   "cell_type": "code",
   "execution_count": 31,
   "id": "c4f84fe5",
   "metadata": {},
   "outputs": [],
   "source": [
    "aula1.append(\"Diego\")\n"
   ]
  },
  {
   "cell_type": "code",
   "execution_count": 32,
   "id": "4e5fd460",
   "metadata": {},
   "outputs": [
    {
     "name": "stdout",
     "output_type": "stream",
     "text": [
      "['Juan', 'Daniel', 'Ruben', 'Diego']\n"
     ]
    }
   ],
   "source": [
    "# Al imprimir los elementos de la lista aula1 se observa\n",
    "print(aula1)"
   ]
  },
  {
   "cell_type": "code",
   "execution_count": 33,
   "id": "f3dd639b",
   "metadata": {},
   "outputs": [
    {
     "name": "stdout",
     "output_type": "stream",
     "text": [
      "['Juan', 'Daniel', 'Ruben', 'Diego']\n"
     ]
    }
   ],
   "source": [
    "# Al imprimir los elementos de la lista aula3 se observa\n",
    "print(aula3)"
   ]
  },
  {
   "cell_type": "code",
   "execution_count": 34,
   "id": "5f29126a",
   "metadata": {},
   "outputs": [
    {
     "name": "stdout",
     "output_type": "stream",
     "text": [
      "['Juan', 'Daniel', 'Ruben']\n"
     ]
    }
   ],
   "source": [
    "# Al imprimir los elementos de la lista aula2 se observa\n",
    "print(aula2)"
   ]
  }
 ],
 "metadata": {
  "kernelspec": {
   "display_name": "Python 3 (ipykernel)",
   "language": "python",
   "name": "python3"
  },
  "language_info": {
   "codemirror_mode": {
    "name": "ipython",
    "version": 3
   },
   "file_extension": ".py",
   "mimetype": "text/x-python",
   "name": "python",
   "nbconvert_exporter": "python",
   "pygments_lexer": "ipython3",
   "version": "3.9.12"
  }
 },
 "nbformat": 4,
 "nbformat_minor": 5
}
