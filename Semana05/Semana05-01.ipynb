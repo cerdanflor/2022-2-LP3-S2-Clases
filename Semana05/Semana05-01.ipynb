{
 "cells": [
  {
   "cell_type": "markdown",
   "id": "151d47ee",
   "metadata": {},
   "source": [
    "# Semana 05\n",
    "Mg. Flor Cerdán León"
   ]
  },
  {
   "cell_type": "raw",
   "id": "bdd75629",
   "metadata": {},
   "source": [
    "Temas:\n",
    "    1. Colecciones de Datos\n",
    "    2. Estructuras Decisivas y Estructuras Repetitivas\n",
    "    3. Clases y Objetos\n",
    "    Funciones"
   ]
  },
  {
   "cell_type": "raw",
   "id": "17d5af7d",
   "metadata": {},
   "source": [
    "1. Colecciones"
   ]
  },
  {
   "cell_type": "code",
   "execution_count": 2,
   "id": "222a6701",
   "metadata": {},
   "outputs": [
    {
     "name": "stdout",
     "output_type": "stream",
     "text": [
      "['Huaman', 'Pineda', 'Luque', 'Cachay']\n"
     ]
    }
   ],
   "source": [
    "# 1.1. Listas\n",
    "# Es una colección de elementos que puede ser ordenada, modificada, etc..\n",
    "# Se identifica por los corchetes\n",
    "# Ejemplo:\n",
    "aula=['Huaman', 'Pineda','Luque','Cachay']\n",
    "print(aula)"
   ]
  },
  {
   "cell_type": "code",
   "execution_count": 3,
   "id": "aab85a25",
   "metadata": {},
   "outputs": [
    {
     "data": {
      "text/plain": [
       "['Huaman', 'Pineda', 'Luque', 'Cachay']"
      ]
     },
     "execution_count": 3,
     "metadata": {},
     "output_type": "execute_result"
    }
   ],
   "source": [
    "aula"
   ]
  },
  {
   "cell_type": "code",
   "execution_count": 4,
   "id": "c5483b6f",
   "metadata": {},
   "outputs": [
    {
     "name": "stdout",
     "output_type": "stream",
     "text": [
      "Huaman\n",
      "Pineda\n"
     ]
    }
   ],
   "source": [
    "# Podemos extraer cada elemento por su posición\n",
    "print(aula[0])\n",
    "print(aula[1])"
   ]
  },
  {
   "cell_type": "code",
   "execution_count": 5,
   "id": "14d0423e",
   "metadata": {},
   "outputs": [
    {
     "data": {
      "text/plain": [
       "'Soto'"
      ]
     },
     "execution_count": 5,
     "metadata": {},
     "output_type": "execute_result"
    }
   ],
   "source": [
    "# Puedo asignar un valor a una posición de la lista\n",
    "aula[1] = 'Soto'\n",
    "aula[1]"
   ]
  },
  {
   "cell_type": "code",
   "execution_count": 6,
   "id": "74f9a294",
   "metadata": {},
   "outputs": [
    {
     "data": {
      "text/plain": [
       "['Huaman', 'Soto', 'Luque', 'Cachay']"
      ]
     },
     "execution_count": 6,
     "metadata": {},
     "output_type": "execute_result"
    }
   ],
   "source": [
    "# Mostramos como quedó la lista\n",
    "aula"
   ]
  },
  {
   "cell_type": "code",
   "execution_count": 7,
   "id": "df837bd0",
   "metadata": {},
   "outputs": [],
   "source": [
    "# Para agregar un elemento utilizamos append\n",
    "aula.append(\"Llanos\")\n",
    "aula.append(\"Luque\")"
   ]
  },
  {
   "cell_type": "code",
   "execution_count": 8,
   "id": "4ddf74b9",
   "metadata": {},
   "outputs": [
    {
     "data": {
      "text/plain": [
       "['Huaman', 'Soto', 'Luque', 'Cachay', 'Llanos', 'Luque']"
      ]
     },
     "execution_count": 8,
     "metadata": {},
     "output_type": "execute_result"
    }
   ],
   "source": [
    "aula"
   ]
  },
  {
   "cell_type": "code",
   "execution_count": 9,
   "id": "c391d58c",
   "metadata": {},
   "outputs": [],
   "source": [
    "# Para eliminar elementos utilizamos remove[]\n",
    "aula.remove(\"Huaman\")"
   ]
  },
  {
   "cell_type": "code",
   "execution_count": 10,
   "id": "498e6243",
   "metadata": {},
   "outputs": [
    {
     "data": {
      "text/plain": [
       "['Soto', 'Luque', 'Cachay', 'Llanos', 'Luque']"
      ]
     },
     "execution_count": 10,
     "metadata": {},
     "output_type": "execute_result"
    }
   ],
   "source": [
    "aula"
   ]
  },
  {
   "cell_type": "code",
   "execution_count": 11,
   "id": "f1ae9a2f",
   "metadata": {},
   "outputs": [
    {
     "data": {
      "text/plain": [
       "['Soto', 'Cachay', 'Llanos', 'Luque']"
      ]
     },
     "execution_count": 11,
     "metadata": {},
     "output_type": "execute_result"
    }
   ],
   "source": [
    "# Si hubiera varios elementos de valores iguales se elimina la primera coincidencia\n",
    "aula.remove(\"Luque\")\n",
    "aula"
   ]
  },
  {
   "cell_type": "code",
   "execution_count": 12,
   "id": "efac1ecc",
   "metadata": {},
   "outputs": [
    {
     "data": {
      "text/plain": [
       "4"
      ]
     },
     "execution_count": 12,
     "metadata": {},
     "output_type": "execute_result"
    }
   ],
   "source": [
    "# Para obtener el tamaño utilizamos len()\n",
    "len(aula)"
   ]
  },
  {
   "cell_type": "code",
   "execution_count": 14,
   "id": "b09d75e6",
   "metadata": {},
   "outputs": [
    {
     "name": "stdout",
     "output_type": "stream",
     "text": [
      "Soto\n",
      "Cachay\n",
      "Llanos\n",
      "Luque\n"
     ]
    }
   ],
   "source": [
    "# Para recorrrer podemos utilizar una estructura repetitiva\n",
    "for alumno in aula:\n",
    "    print(alumno)"
   ]
  },
  {
   "cell_type": "code",
   "execution_count": 15,
   "id": "979d07ee",
   "metadata": {},
   "outputs": [
    {
     "data": {
      "text/plain": [
       "['Luque', 'Llanos', 'Cachay', 'Soto']"
      ]
     },
     "execution_count": 15,
     "metadata": {},
     "output_type": "execute_result"
    }
   ],
   "source": [
    "# Para invertir la lista utilizamos reverse()\n",
    "# invertir NO significa ordenar en forma descendente sin invertir la lista\n",
    "aula.reverse()\n",
    "aula"
   ]
  },
  {
   "cell_type": "code",
   "execution_count": 16,
   "id": "08ed632d",
   "metadata": {},
   "outputs": [
    {
     "data": {
      "text/plain": [
       "['Cachay', 'Llanos', 'Luque', 'Soto']"
      ]
     },
     "execution_count": 16,
     "metadata": {},
     "output_type": "execute_result"
    }
   ],
   "source": [
    "# Parar ordenar una lista utilizamos sort()\n",
    "aula.sort()\n",
    "aula"
   ]
  },
  {
   "cell_type": "code",
   "execution_count": 17,
   "id": "6387a94a",
   "metadata": {},
   "outputs": [],
   "source": [
    "# 1.2 Tuplas\n",
    "# Es una colección de elementos ordenada (Ordenado significa que tiene un índice) que no se pueden modificar, es inalterable.\n",
    "# No se pueden agregar elementos ni eliminar.\n",
    "# se identifica por los parentesis\n",
    "tupla_aula = ('Huaman', 'Pineda','Luque','Cachay')"
   ]
  },
  {
   "cell_type": "code",
   "execution_count": 18,
   "id": "38140125",
   "metadata": {},
   "outputs": [
    {
     "data": {
      "text/plain": [
       "('Huaman', 'Pineda', 'Luque', 'Cachay')"
      ]
     },
     "execution_count": 18,
     "metadata": {},
     "output_type": "execute_result"
    }
   ],
   "source": [
    "tupla_aula"
   ]
  },
  {
   "cell_type": "code",
   "execution_count": 19,
   "id": "1f2e8792",
   "metadata": {},
   "outputs": [
    {
     "name": "stdout",
     "output_type": "stream",
     "text": [
      "Huaman\n",
      "Pineda\n",
      "Luque\n",
      "Cachay\n"
     ]
    }
   ],
   "source": [
    "# Se puede recorrer con una estructura repetitiva\n",
    "# Ejemplo el for\n",
    "for alumno in tupla_aula:\n",
    "    print(alumno)"
   ]
  },
  {
   "cell_type": "code",
   "execution_count": 20,
   "id": "4e0ee154",
   "metadata": {},
   "outputs": [
    {
     "data": {
      "text/plain": [
       "'Luque'"
      ]
     },
     "execution_count": 20,
     "metadata": {},
     "output_type": "execute_result"
    }
   ],
   "source": [
    "# Se puede extraer un elemento por su posición\n",
    "tupla_aula[2]"
   ]
  },
  {
   "cell_type": "code",
   "execution_count": 21,
   "id": "2974bac9",
   "metadata": {},
   "outputs": [
    {
     "data": {
      "text/plain": [
       "4"
      ]
     },
     "execution_count": 21,
     "metadata": {},
     "output_type": "execute_result"
    }
   ],
   "source": [
    "# Para saber la cantidad de elementos de una tupla utilizamos len()\n",
    "len(tupla_aula)"
   ]
  },
  {
   "cell_type": "code",
   "execution_count": 22,
   "id": "ff44da7b",
   "metadata": {},
   "outputs": [
    {
     "data": {
      "text/plain": [
       "{'Cachay', 'Huaman', 'Luque', 'Pineda'}"
      ]
     },
     "execution_count": 22,
     "metadata": {},
     "output_type": "execute_result"
    }
   ],
   "source": [
    "# 1.3 Conjuntos\n",
    "# Es una colección de elementos que no está ordenado (Significa que no tiene un índice)\n",
    "conjunto_aula = {'Huaman', 'Pineda','Luque','Cachay'}\n",
    "conjunto_aula"
   ]
  },
  {
   "cell_type": "code",
   "execution_count": 23,
   "id": "405ecc2c",
   "metadata": {},
   "outputs": [
    {
     "name": "stdout",
     "output_type": "stream",
     "text": [
      "Huaman\n",
      "Luque\n",
      "Pineda\n",
      "Cachay\n"
     ]
    }
   ],
   "source": [
    "# Se puede recorrer utilizando una estructura repetitiva\n",
    "# Ejemplo: for\n",
    "for alumno in conjunto_aula:\n",
    "    print(alumno)"
   ]
  },
  {
   "cell_type": "code",
   "execution_count": 25,
   "id": "240613e9",
   "metadata": {},
   "outputs": [],
   "source": [
    "# Observación: No se puede acceder por posición pues no considera indexación\n",
    "# Por ejemplo: \n",
    "#conjunto_aula[2]"
   ]
  },
  {
   "cell_type": "code",
   "execution_count": 26,
   "id": "029533dc",
   "metadata": {},
   "outputs": [
    {
     "data": {
      "text/plain": [
       "4"
      ]
     },
     "execution_count": 26,
     "metadata": {},
     "output_type": "execute_result"
    }
   ],
   "source": [
    "# Para saber la cantidad de elementos utilizamos len()\n",
    "len(conjunto_aula)"
   ]
  },
  {
   "cell_type": "code",
   "execution_count": 27,
   "id": "50232865",
   "metadata": {},
   "outputs": [
    {
     "data": {
      "text/plain": [
       "{'Baldeon', 'Cachay', 'Huaman', 'Luque', 'Pineda'}"
      ]
     },
     "execution_count": 27,
     "metadata": {},
     "output_type": "execute_result"
    }
   ],
   "source": [
    "# Para agregar utilizamos la función add()\n",
    "conjunto_aula.add(\"Baldeon\")\n",
    "conjunto_aula"
   ]
  },
  {
   "cell_type": "code",
   "execution_count": 28,
   "id": "67c12779",
   "metadata": {},
   "outputs": [
    {
     "data": {
      "text/plain": [
       "{'Baldeon', 'Huaman', 'Luque', 'Pineda'}"
      ]
     },
     "execution_count": 28,
     "metadata": {},
     "output_type": "execute_result"
    }
   ],
   "source": [
    "# Parar eliminar elementos utilizamos la función remove()\n",
    "conjunto_aula.remove(\"Cachay\")\n",
    "conjunto_aula"
   ]
  },
  {
   "cell_type": "code",
   "execution_count": 29,
   "id": "3fcc4d46",
   "metadata": {},
   "outputs": [
    {
     "data": {
      "text/plain": [
       "{2: 'Baldeon', '1': 'Cachay', 'dos': 'Huaman', '3': 'Luque', '0': 'Pineda'}"
      ]
     },
     "execution_count": 29,
     "metadata": {},
     "output_type": "execute_result"
    }
   ],
   "source": [
    "# 1.4. Diccionarios\n",
    "# Es una colección de elementos, que están indexados, no estan ordenados y se pueden modificar\n",
    "# Son escritos entre llaves y están formados por pares de elementos     INDICE:VALOR\n",
    "diccionario_aula = {2:'Baldeon','1':'Cachay','dos':'Huaman','3':'Luque', '0':'Pineda'}\n",
    "diccionario_aula"
   ]
  },
  {
   "cell_type": "code",
   "execution_count": 30,
   "id": "148aadae",
   "metadata": {},
   "outputs": [
    {
     "data": {
      "text/plain": [
       "'Pineda'"
      ]
     },
     "execution_count": 30,
     "metadata": {},
     "output_type": "execute_result"
    }
   ],
   "source": [
    "# Del Diccionario: diccionario_aula extraer el valor cuyo índice sea cero en String: \n",
    "diccionario_aula['0']"
   ]
  },
  {
   "cell_type": "code",
   "execution_count": 31,
   "id": "631b6a75",
   "metadata": {},
   "outputs": [
    {
     "data": {
      "text/plain": [
       "'Baldeon'"
      ]
     },
     "execution_count": 31,
     "metadata": {},
     "output_type": "execute_result"
    }
   ],
   "source": [
    "diccionario_aula[2]"
   ]
  },
  {
   "cell_type": "code",
   "execution_count": 32,
   "id": "2390ab45",
   "metadata": {},
   "outputs": [
    {
     "data": {
      "text/plain": [
       "'Cachay'"
      ]
     },
     "execution_count": 32,
     "metadata": {},
     "output_type": "execute_result"
    }
   ],
   "source": [
    "diccionario_aula[\"1\"]"
   ]
  },
  {
   "cell_type": "code",
   "execution_count": 33,
   "id": "3f9456d0",
   "metadata": {},
   "outputs": [
    {
     "data": {
      "text/plain": [
       "'Huaman'"
      ]
     },
     "execution_count": 33,
     "metadata": {},
     "output_type": "execute_result"
    }
   ],
   "source": [
    "diccionario_aula[\"dos\"]"
   ]
  },
  {
   "cell_type": "code",
   "execution_count": 34,
   "id": "0f152663",
   "metadata": {},
   "outputs": [],
   "source": [
    "# Para añadir un par de elementos al diccionario hacemos:\n",
    "diccionario_aula['20'] = \"Prado\""
   ]
  },
  {
   "cell_type": "code",
   "execution_count": 35,
   "id": "59147452",
   "metadata": {},
   "outputs": [
    {
     "data": {
      "text/plain": [
       "{2: 'Baldeon',\n",
       " '1': 'Cachay',\n",
       " 'dos': 'Huaman',\n",
       " '3': 'Luque',\n",
       " '0': 'Pineda',\n",
       " '20': 'Prado'}"
      ]
     },
     "execution_count": 35,
     "metadata": {},
     "output_type": "execute_result"
    }
   ],
   "source": [
    "diccionario_aula"
   ]
  },
  {
   "cell_type": "code",
   "execution_count": 36,
   "id": "456cf1c9",
   "metadata": {},
   "outputs": [
    {
     "data": {
      "text/plain": [
       "{'1': 'Cachay', 'dos': 'Huaman', '3': 'Luque', '0': 'Pineda', '20': 'Prado'}"
      ]
     },
     "execution_count": 36,
     "metadata": {},
     "output_type": "execute_result"
    }
   ],
   "source": [
    "# Para eliminar un valor se utiliza pop()\n",
    "# Por ejemplo,eliminar el elmento de índice dos.ejemplo: Para eliminar a Bernaola que tendríamos que hacer: \n",
    "diccionario_aula.pop(2)\n",
    "diccionario_aula"
   ]
  },
  {
   "cell_type": "code",
   "execution_count": 37,
   "id": "9a090406",
   "metadata": {},
   "outputs": [
    {
     "data": {
      "text/plain": [
       "{'1': 'Cachay', '3': 'Luque', '0': 'Pineda', '20': 'Prado'}"
      ]
     },
     "execution_count": 37,
     "metadata": {},
     "output_type": "execute_result"
    }
   ],
   "source": [
    "# Tambien se puede eliminar utilizando del()\n",
    "del(diccionario_aula[\"dos\"])\n",
    "diccionario_aula"
   ]
  },
  {
   "cell_type": "code",
   "execution_count": 38,
   "id": "81a532b7",
   "metadata": {},
   "outputs": [
    {
     "name": "stdout",
     "output_type": "stream",
     "text": [
      "1\n",
      "3\n",
      "0\n",
      "20\n"
     ]
    }
   ],
   "source": [
    "# Para recorrer todos los elementos podemos utilizar for\n",
    "# En este ejemplo devuelve los índices\n",
    "for indice in diccionario_aula:\n",
    "    print(indice)"
   ]
  },
  {
   "cell_type": "code",
   "execution_count": 40,
   "id": "ad33647d",
   "metadata": {},
   "outputs": [
    {
     "name": "stdout",
     "output_type": "stream",
     "text": [
      "1 Cachay\n",
      "3 Luque\n",
      "0 Pineda\n",
      "20 Prado\n"
     ]
    }
   ],
   "source": [
    "# Para obtener el indice y el valor de cada elemento utilizamos items()\n",
    "for indice, valor in diccionario_aula.items():\n",
    "    print(indice, valor)"
   ]
  },
  {
   "cell_type": "code",
   "execution_count": null,
   "id": "7fb397ab",
   "metadata": {},
   "outputs": [],
   "source": [
    "#1.5 Ejercicio\n",
    "# Dado una lista[AQUINO, ARCOS, BALDEON, BARZOLA, BELLO, CACHAY, CARRASCO, CIRIACO, DELGADO, GAYOSO, GONZALES, GRANADOS, HUAMAN, LLANOS,LUQUE, PINEDA, PRADO, QUIJAHUAMAN, QUISPE ,RAKAUSKAS, RAMOS, ROJAS, SOTO,ZARATE]\n",
    "# Diseñar un código que muestre si el apellido de un estudiante(Ingreasdo por el teclado) forma parte de la lista\n",
    "# Tiempo:10 minutos"
   ]
  }
 ],
 "metadata": {
  "kernelspec": {
   "display_name": "Python 3 (ipykernel)",
   "language": "python",
   "name": "python3"
  },
  "language_info": {
   "codemirror_mode": {
    "name": "ipython",
    "version": 3
   },
   "file_extension": ".py",
   "mimetype": "text/x-python",
   "name": "python",
   "nbconvert_exporter": "python",
   "pygments_lexer": "ipython3",
   "version": "3.9.12"
  }
 },
 "nbformat": 4,
 "nbformat_minor": 5
}
