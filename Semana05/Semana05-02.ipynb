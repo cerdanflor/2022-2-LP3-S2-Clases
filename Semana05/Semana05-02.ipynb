{
 "cells": [
  {
   "cell_type": "markdown",
   "id": "673e32ea",
   "metadata": {},
   "source": [
    "# Semana 05\n",
    "Mg. Flor Elizabeth Cerdán León"
   ]
  },
  {
   "cell_type": "raw",
   "id": "2b492e94",
   "metadata": {},
   "source": [
    "Temas:\n",
    "    1. Colecciones de Datos\n",
    "    2. Estructuras Decisivas y Estructuras Repetitivas\n",
    "    3. Clases y Objetos\n",
    "    4. Funciones"
   ]
  },
  {
   "cell_type": "raw",
   "id": "758e5090",
   "metadata": {},
   "source": [
    "2. Blucles y Condiciones"
   ]
  },
  {
   "cell_type": "code",
   "execution_count": 1,
   "id": "0ca644a1",
   "metadata": {},
   "outputs": [],
   "source": [
    "# 2.1 Estructuras Decisivas (if, elif, else)"
   ]
  },
  {
   "cell_type": "code",
   "execution_count": null,
   "id": "0a9ba3e1",
   "metadata": {},
   "outputs": [],
   "source": [
    "# if\n",
    "# Problema: Dado el precio de 3 productos ingresados por el teclado, aplicar un descuento del 10% si la \n",
    "# venta es mayor o igual a 1000."
   ]
  },
  {
   "cell_type": "code",
   "execution_count": 3,
   "id": "7f37df1c",
   "metadata": {},
   "outputs": [
    {
     "name": "stdout",
     "output_type": "stream",
     "text": [
      "Producto 1: 1000\n",
      "Producto 2: 89\n",
      "Producto 3: 457\n",
      "El total a pagar es: 1391.4\n"
     ]
    }
   ],
   "source": [
    "# Solución\n",
    "P1 = float(input(\"Producto 1: \"))\n",
    "P2 = float(input(\"Producto 2: \"))\n",
    "P3 = float(input(\"Producto 3: \"))\n",
    "total = P1 + P2 + P3\n",
    "if total>=1000:\n",
    "    total *= 0.9\n",
    "print(f\"El total a pagar es: {total}\")"
   ]
  },
  {
   "cell_type": "code",
   "execution_count": null,
   "id": "3e402475",
   "metadata": {},
   "outputs": [],
   "source": [
    "# IF-ELSE"
   ]
  },
  {
   "cell_type": "code",
   "execution_count": null,
   "id": "f07a5e23",
   "metadata": {},
   "outputs": [],
   "source": [
    "#Dado una lista[AQUINO, ARCOS, BALDEON, BARZOLA, BELLO, CACHAY, CARRASCO, CIRIACO, DELGADO, GAYOSO, GONZALES, GRANADOS, HUAMAN, LLANOS,LUQUE, PINEDA, PRADO, QUIJAHUAMAN, QUISPE ,RAKAUSKAS, RAMOS, ROJAS, SOTO,ZARATE]\n",
    "# Diseñar un código que muestre si el apellido de un estudiante (Ingresado por teclado) forma parte de la lista"
   ]
  },
  {
   "cell_type": "code",
   "execution_count": 8,
   "id": "40a2b18e",
   "metadata": {},
   "outputs": [
    {
     "name": "stdout",
     "output_type": "stream",
     "text": [
      "Ingrese nombrea buscar: leon\n",
      "No está en la lista de LP3\n"
     ]
    }
   ],
   "source": [
    "# Solución:\n",
    "LP3 = [\"AQUINO\", \"ARCOS\", \"BALDEON\", \"BARZOLA\", \"BELLO\", \"CACHAY\", \"CARRASCO\", \"CIRIACO\", \"DELGADO\", \n",
    "       \"GAYOSO\", \"GONZALES\", \"GRANADOS\", \"HUAMAN\", \"LLANOS\",\"LUQUE\", \"PINEDA\", \"PRADO\", \"QUIJAHUAMAN\",\n",
    "       \"QUISPE\" ,\"RAKAUSKAS\", \"RAMOS\", \"ROJAS\", \"SOTO\", \"ZARATE\"]\n",
    "\n",
    "apellido = input(\"Ingrese nombrea buscar: \")\n",
    "\n",
    "# Como los datos de la lista están en mayúscula, utilizo.upper()\n",
    "\n",
    "if apellido.upper() in LP3:\n",
    "    print(\"Si está en la lista de LP3\")\n",
    "else:\n",
    "    print(\"No está en la lista de LP3\")"
   ]
  },
  {
   "cell_type": "code",
   "execution_count": 7,
   "id": "f1716e25",
   "metadata": {},
   "outputs": [],
   "source": [
    "# Problema 02\n",
    "# Dado el importe total de ventas realizadas por un trabajador (Ingreso por teclado,\n",
    "# Categorizar que tipo de empleado es , considerando la siguiente tabla)\n",
    "\n",
    "# Categoría: A ->[1,1000]\n",
    "# Categoría: B ->[1000,2000]\n",
    "# Categoría: C ->[2000,5000]\n",
    "# Categoría: D ->[5000,Más]\n",
    "# Tiempo:10 minutos"
   ]
  },
  {
   "cell_type": "code",
   "execution_count": 15,
   "id": "288151dd",
   "metadata": {},
   "outputs": [
    {
     "name": "stdout",
     "output_type": "stream",
     "text": [
      "Importe de ventas realizadas: 2654\n",
      "Categoria C\n"
     ]
    }
   ],
   "source": [
    "# Solución\n",
    "ventas = float(input(\"Importe de ventas realizadas: \"))\n",
    "if ventas < 0:\n",
    "    print(\"Datos erroneos\")\n",
    "else:    \n",
    "    if ventas<=1000:\n",
    "        print(\"Categoria A\")\n",
    "    else:\n",
    "        if ventas <=2000:\n",
    "            print(\"Categoria B\")\n",
    "        else:\n",
    "            if ventas <= 5000:\n",
    "                print(\"Categoria C\")\n",
    "            else:\n",
    "                print(\"Categoria D\")"
   ]
  },
  {
   "cell_type": "code",
   "execution_count": null,
   "id": "2b107ec2",
   "metadata": {},
   "outputs": [],
   "source": [
    "# elif\n",
    "# Problema 03\n",
    "# Dado el importe total de ventas realizadas por un trabajador (Ingreso por teclado,\n",
    "# Categorizar que tipo de empleado es , considerando la siguiente tabla)\n",
    "\n",
    "# Categoría: A ->[1,1000]\n",
    "# Categoría: B ->[1000,2000]\n",
    "# Categoría: C ->[2000,5000]\n",
    "# Categoría: D ->[5000,Más]\n",
    "# Tiempo:10 minutos"
   ]
  },
  {
   "cell_type": "code",
   "execution_count": 17,
   "id": "210bc44d",
   "metadata": {},
   "outputs": [
    {
     "name": "stdout",
     "output_type": "stream",
     "text": [
      "Importe de ventas realizadas: 10000\n",
      "Categoría D\n"
     ]
    }
   ],
   "source": [
    "# Solución\n",
    "\n",
    "ventas = float(input(\"Importe de ventas realizadas: \"))\n",
    "if ventas < 0:\n",
    "    print(\"Datos Erroneos\")\n",
    "elif ventas<=1000:\n",
    "    print(\"Categoría A\")\n",
    "elif ventas<=2000:\n",
    "    print(\"categoría B\")\n",
    "elif ventas<=5000:\n",
    "    print(\"Categoría C\")\n",
    "else:\n",
    "    print(\"Categoría D\")"
   ]
  },
  {
   "cell_type": "code",
   "execution_count": 18,
   "id": "5b06cfcc",
   "metadata": {},
   "outputs": [],
   "source": [
    "# 2.2 Estructuras Repetitivas\n",
    "# for\n",
    "# Problema 01:\n",
    "# Mostrar los elementos de una lista utilizando for\n"
   ]
  },
  {
   "cell_type": "code",
   "execution_count": 19,
   "id": "ea6efc53",
   "metadata": {},
   "outputs": [
    {
     "name": "stdout",
     "output_type": "stream",
     "text": [
      "Carrasco\n",
      "Navarro\n",
      "Gonzales\n",
      "Aquino\n"
     ]
    }
   ],
   "source": [
    "# Solución\n",
    "aula = ['Carrasco', 'Navarro', 'Gonzales','Aquino']\n",
    "\n",
    "# Por cada alumno que está en la lista, imprimir alumno\n",
    "for alumno in aula:\n",
    "    print(alumno)"
   ]
  },
  {
   "cell_type": "code",
   "execution_count": 21,
   "id": "379e7185",
   "metadata": {},
   "outputs": [
    {
     "name": "stdout",
     "output_type": "stream",
     "text": [
      "Ingrese Cadena: En todo tempo ama el amigo. Prov 17:17\n",
      "E\n",
      "n\n",
      " \n",
      "t\n",
      "o\n",
      "d\n",
      "o\n",
      " \n",
      "t\n",
      "e\n",
      "m\n",
      "p\n",
      "o\n",
      " \n",
      "a\n",
      "m\n",
      "a\n",
      " \n",
      "e\n",
      "l\n",
      " \n",
      "a\n",
      "m\n",
      "i\n",
      "g\n",
      "o\n",
      ".\n",
      " \n",
      "P\n",
      "r\n",
      "o\n",
      "v\n",
      " \n",
      "1\n",
      "7\n",
      ":\n",
      "1\n",
      "7\n"
     ]
    }
   ],
   "source": [
    "cadena=input(\"Ingrese Cadena: \")\n",
    "for caracter in cadena:\n",
    "    print(caracter)"
   ]
  },
  {
   "cell_type": "code",
   "execution_count": 33,
   "id": "ce11a32c",
   "metadata": {},
   "outputs": [
    {
     "data": {
      "text/plain": [
       "range(0, 5)"
      ]
     },
     "execution_count": 33,
     "metadata": {},
     "output_type": "execute_result"
    }
   ],
   "source": [
    "# Problema 01\n",
    "# Para generar rangos de números utilizamos range()\n",
    "range(5)"
   ]
  },
  {
   "cell_type": "code",
   "execution_count": 32,
   "id": "565e5b70",
   "metadata": {},
   "outputs": [
    {
     "name": "stdout",
     "output_type": "stream",
     "text": [
      "3\n",
      "4\n",
      "5\n",
      "6\n",
      "7\n",
      "8\n",
      "9\n",
      "10\n"
     ]
    }
   ],
   "source": [
    "# Problema 02\n",
    "# Imprimir los números de 0 a 10, utilizando for\n",
    "for numero in range(3,11):\n",
    "    print(numero)"
   ]
  },
  {
   "cell_type": "code",
   "execution_count": 35,
   "id": "cdd4de78",
   "metadata": {},
   "outputs": [
    {
     "name": "stdout",
     "output_type": "stream",
     "text": [
      "5\n",
      "6\n",
      "7\n",
      "8\n",
      "9\n"
     ]
    }
   ],
   "source": [
    "# Problema 03\n",
    "# Imprimir los números de 5 a 9, utilizando for\n",
    "for numero in range(5,10):\n",
    "    print(numero)"
   ]
  },
  {
   "cell_type": "code",
   "execution_count": 38,
   "id": "9a1a3e51",
   "metadata": {},
   "outputs": [
    {
     "name": "stdout",
     "output_type": "stream",
     "text": [
      "10\n",
      "12\n",
      "14\n",
      "16\n",
      "18\n",
      "20\n"
     ]
    }
   ],
   "source": [
    "# Problema 04\n",
    "# Imprimir los números de 10 a 20 , utilizando for\n",
    "for numero in range(10,21,2):\n",
    "    print(numero)"
   ]
  },
  {
   "cell_type": "code",
   "execution_count": null,
   "id": "52221f3f",
   "metadata": {},
   "outputs": [],
   "source": [
    "# Tambien funcionan los bucles anidados:\n",
    "# PROBLEMA 05 \n",
    "# DADO UNA LISTA DE NÚMEROS , UTILIZANDO EL ALGORITMO BURBUJA ORDENARLOS DE MENOR A MAYOR\n",
    "# LISTA: [10,20,5,-10,100,0,50,17,2000,-1000,0]"
   ]
  }
 ],
 "metadata": {
  "kernelspec": {
   "display_name": "Python 3 (ipykernel)",
   "language": "python",
   "name": "python3"
  },
  "language_info": {
   "codemirror_mode": {
    "name": "ipython",
    "version": 3
   },
   "file_extension": ".py",
   "mimetype": "text/x-python",
   "name": "python",
   "nbconvert_exporter": "python",
   "pygments_lexer": "ipython3",
   "version": "3.9.12"
  }
 },
 "nbformat": 4,
 "nbformat_minor": 5
}
